{
 "cells": [
  {
   "cell_type": "code",
   "execution_count": 1,
   "metadata": {},
   "outputs": [],
   "source": [
    "import pandas as pd"
   ]
  },
  {
   "cell_type": "code",
   "execution_count": 2,
   "metadata": {},
   "outputs": [],
   "source": [
    "#loading data\n",
    "\n",
    "df=pd.read_csv('/Users/admin/Downloads/SacramentocrimeJanuary2006.csv')"
   ]
  },
  {
   "cell_type": "code",
   "execution_count": 45,
   "metadata": {},
   "outputs": [
    {
     "name": "stdout",
     "output_type": "stream",
     "text": [
      "<class 'pandas.core.frame.DataFrame'>\n",
      "RangeIndex: 7584 entries, 0 to 7583\n",
      "Data columns (total 9 columns):\n",
      " #   Column         Non-Null Count  Dtype  \n",
      "---  ------         --------------  -----  \n",
      " 0   cdatetime      7584 non-null   object \n",
      " 1   address        7584 non-null   object \n",
      " 2   district       7584 non-null   int64  \n",
      " 3   beat           7584 non-null   object \n",
      " 4   grid           7584 non-null   int64  \n",
      " 5   crimedescr     7584 non-null   object \n",
      " 6   ucr_ncic_code  7584 non-null   int64  \n",
      " 7   latitude       7584 non-null   float64\n",
      " 8   longitude      7584 non-null   float64\n",
      "dtypes: float64(2), int64(3), object(4)\n",
      "memory usage: 533.4+ KB\n"
     ]
    }
   ],
   "source": [
    "#Getting info about your data\n",
    "df.info()"
   ]
  },
  {
   "cell_type": "code",
   "execution_count": 3,
   "metadata": {
    "scrolled": true
   },
   "outputs": [
    {
     "data": {
      "text/html": [
       "<div>\n",
       "<style scoped>\n",
       "    .dataframe tbody tr th:only-of-type {\n",
       "        vertical-align: middle;\n",
       "    }\n",
       "\n",
       "    .dataframe tbody tr th {\n",
       "        vertical-align: top;\n",
       "    }\n",
       "\n",
       "    .dataframe thead th {\n",
       "        text-align: right;\n",
       "    }\n",
       "</style>\n",
       "<table border=\"1\" class=\"dataframe\">\n",
       "  <thead>\n",
       "    <tr style=\"text-align: right;\">\n",
       "      <th></th>\n",
       "      <th>cdatetime</th>\n",
       "      <th>address</th>\n",
       "      <th>district</th>\n",
       "      <th>beat</th>\n",
       "      <th>grid</th>\n",
       "      <th>crimedescr</th>\n",
       "      <th>ucr_ncic_code</th>\n",
       "      <th>latitude</th>\n",
       "      <th>longitude</th>\n",
       "    </tr>\n",
       "  </thead>\n",
       "  <tbody>\n",
       "    <tr>\n",
       "      <th>0</th>\n",
       "      <td>1/1/06 0:00</td>\n",
       "      <td>3108 OCCIDENTAL DR</td>\n",
       "      <td>3</td>\n",
       "      <td>3C</td>\n",
       "      <td>1115</td>\n",
       "      <td>10851(A)VC TAKE VEH W/O OWNER</td>\n",
       "      <td>2404</td>\n",
       "      <td>38.550420</td>\n",
       "      <td>-121.391416</td>\n",
       "    </tr>\n",
       "    <tr>\n",
       "      <th>1</th>\n",
       "      <td>1/1/06 0:00</td>\n",
       "      <td>2082 EXPEDITION WAY</td>\n",
       "      <td>5</td>\n",
       "      <td>5A</td>\n",
       "      <td>1512</td>\n",
       "      <td>459 PC  BURGLARY RESIDENCE</td>\n",
       "      <td>2204</td>\n",
       "      <td>38.473501</td>\n",
       "      <td>-121.490186</td>\n",
       "    </tr>\n",
       "    <tr>\n",
       "      <th>2</th>\n",
       "      <td>1/1/06 0:00</td>\n",
       "      <td>4 PALEN CT</td>\n",
       "      <td>2</td>\n",
       "      <td>2A</td>\n",
       "      <td>212</td>\n",
       "      <td>10851(A)VC TAKE VEH W/O OWNER</td>\n",
       "      <td>2404</td>\n",
       "      <td>38.657846</td>\n",
       "      <td>-121.462101</td>\n",
       "    </tr>\n",
       "    <tr>\n",
       "      <th>3</th>\n",
       "      <td>1/1/06 0:00</td>\n",
       "      <td>22 BECKFORD CT</td>\n",
       "      <td>6</td>\n",
       "      <td>6C</td>\n",
       "      <td>1443</td>\n",
       "      <td>476 PC PASS FICTICIOUS CHECK</td>\n",
       "      <td>2501</td>\n",
       "      <td>38.506774</td>\n",
       "      <td>-121.426951</td>\n",
       "    </tr>\n",
       "    <tr>\n",
       "      <th>4</th>\n",
       "      <td>1/1/06 0:00</td>\n",
       "      <td>3421 AUBURN BLVD</td>\n",
       "      <td>2</td>\n",
       "      <td>2A</td>\n",
       "      <td>508</td>\n",
       "      <td>459 PC  BURGLARY-UNSPECIFIED</td>\n",
       "      <td>2299</td>\n",
       "      <td>38.637448</td>\n",
       "      <td>-121.384613</td>\n",
       "    </tr>\n",
       "  </tbody>\n",
       "</table>\n",
       "</div>"
      ],
      "text/plain": [
       "     cdatetime              address  district        beat  grid  \\\n",
       "0  1/1/06 0:00   3108 OCCIDENTAL DR         3  3C          1115   \n",
       "1  1/1/06 0:00  2082 EXPEDITION WAY         5  5A          1512   \n",
       "2  1/1/06 0:00           4 PALEN CT         2  2A           212   \n",
       "3  1/1/06 0:00       22 BECKFORD CT         6  6C          1443   \n",
       "4  1/1/06 0:00     3421 AUBURN BLVD         2  2A           508   \n",
       "\n",
       "                      crimedescr  ucr_ncic_code   latitude   longitude  \n",
       "0  10851(A)VC TAKE VEH W/O OWNER           2404  38.550420 -121.391416  \n",
       "1     459 PC  BURGLARY RESIDENCE           2204  38.473501 -121.490186  \n",
       "2  10851(A)VC TAKE VEH W/O OWNER           2404  38.657846 -121.462101  \n",
       "3   476 PC PASS FICTICIOUS CHECK           2501  38.506774 -121.426951  \n",
       "4   459 PC  BURGLARY-UNSPECIFIED           2299  38.637448 -121.384613  "
      ]
     },
     "execution_count": 3,
     "metadata": {},
     "output_type": "execute_result"
    }
   ],
   "source": [
    "df.head()"
   ]
  },
  {
   "cell_type": "code",
   "execution_count": 4,
   "metadata": {},
   "outputs": [
    {
     "data": {
      "text/plain": [
       "(7584, 9)"
      ]
     },
     "execution_count": 4,
     "metadata": {},
     "output_type": "execute_result"
    }
   ],
   "source": [
    "#outputs just a tuple of (rows, columns)\n",
    "df.shape"
   ]
  },
  {
   "cell_type": "code",
   "execution_count": 48,
   "metadata": {},
   "outputs": [],
   "source": [
    "#Handling duplicates\n",
    "#This dataset does not have duplicate rows\n",
    "#but it is always important to verify you aren't aggregating duplicate rows.\n",
    "#To demonstrate, let's simply just double up our DataFrame by appending it to itself:\n",
    "temp_df = df.append(df)\n",
    "#append() will return a copy without affecting the original DataFrame."
   ]
  },
  {
   "cell_type": "code",
   "execution_count": 49,
   "metadata": {},
   "outputs": [
    {
     "data": {
      "text/plain": [
       "(15168, 9)"
      ]
     },
     "execution_count": 49,
     "metadata": {},
     "output_type": "execute_result"
    }
   ],
   "source": [
    "temp_df.shape"
   ]
  },
  {
   "cell_type": "code",
   "execution_count": 50,
   "metadata": {},
   "outputs": [],
   "source": [
    "#Now we can try dropping duplicates:\n",
    "temp_df = temp_df.drop_duplicates()\n",
    "#Using inplace=True will modify the DataFrame object in place:"
   ]
  },
  {
   "cell_type": "code",
   "execution_count": 51,
   "metadata": {},
   "outputs": [
    {
     "data": {
      "text/plain": [
       "(7546, 9)"
      ]
     },
     "execution_count": 51,
     "metadata": {},
     "output_type": "execute_result"
    }
   ],
   "source": [
    "temp_df.shape"
   ]
  },
  {
   "cell_type": "code",
   "execution_count": 6,
   "metadata": {},
   "outputs": [
    {
     "data": {
      "text/plain": [
       "(0, 9)"
      ]
     },
     "execution_count": 6,
     "metadata": {},
     "output_type": "execute_result"
    }
   ],
   "source": [
    "#we didn't define the keep arugment in the previous example\n",
    "#it was defaulted to first. This means that if two rows are the same\n",
    "#pandas will drop the second row and keep the first row.\n",
    "Current Kernel Logo\n",
    "Pyt\n",
    "#Using last has the opposite effect: the first row is dropped.\n",
    "#first: (default) Drop duplicates except for the first occurrence.\n",
    "#last: Drop duplicates except for the last occurrence.\n",
    "#False: Drop all duplicates.\n",
    "\n",
    "# make a new copy\n",
    "temp_df = df.append(df)\n",
    "\n",
    "#keep, on the other hand, will drop all duplicates. If two rows are the same then both will be dropped.\n",
    "temp_df.drop_duplicates(inplace=True, keep=False)\n",
    "\n",
    "temp_df.shape\n"
   ]
  },
  {
   "cell_type": "code",
   "execution_count": 53,
   "metadata": {},
   "outputs": [
    {
     "data": {
      "text/plain": [
       "Index(['cdatetime', 'address', 'district', 'beat', 'grid', 'crimedescr',\n",
       "       'ucr_ncic_code', 'latitude', 'longitude'],\n",
       "      dtype='object')"
      ]
     },
     "execution_count": 53,
     "metadata": {},
     "output_type": "execute_result"
    }
   ],
   "source": [
    "#Column cleanup\n",
    "#Here's how to print the column names of our dataset:\n",
    "df.columns"
   ]
  },
  {
   "cell_type": "code",
   "execution_count": 7,
   "metadata": {},
   "outputs": [
    {
     "data": {
      "text/plain": [
       "Index(['crimedate&time', 'address', 'districtcode', 'beat', 'grid',\n",
       "       'crimedescr', 'ucr_ncic_code', 'latitude', 'longitude'],\n",
       "      dtype='object')"
      ]
     },
     "execution_count": 7,
     "metadata": {},
     "output_type": "execute_result"
    }
   ],
   "source": [
    "#We can use the .rename() method to rename certain or all columns via a dict.\n",
    "#We don't want parentheses, so let's rename those:\n",
    "\n",
    "df.rename(columns={\n",
    "        'cdatetime': 'crimedate&time', \n",
    "        'district': 'districtcode'\n",
    "    }, inplace=True)\n",
    "df.columns"
   ]
  },
  {
   "cell_type": "code",
   "execution_count": 8,
   "metadata": {},
   "outputs": [
    {
     "data": {
      "text/html": [
       "<div>\n",
       "<style scoped>\n",
       "    .dataframe tbody tr th:only-of-type {\n",
       "        vertical-align: middle;\n",
       "    }\n",
       "\n",
       "    .dataframe tbody tr th {\n",
       "        vertical-align: top;\n",
       "    }\n",
       "\n",
       "    .dataframe thead th {\n",
       "        text-align: right;\n",
       "    }\n",
       "</style>\n",
       "<table border=\"1\" class=\"dataframe\">\n",
       "  <thead>\n",
       "    <tr style=\"text-align: right;\">\n",
       "      <th></th>\n",
       "      <th>crimedate&amp;time</th>\n",
       "      <th>address</th>\n",
       "      <th>districtcode</th>\n",
       "      <th>beat</th>\n",
       "      <th>grid</th>\n",
       "      <th>crimedescr</th>\n",
       "      <th>ucr_ncic_code</th>\n",
       "      <th>latitude</th>\n",
       "      <th>longitude</th>\n",
       "    </tr>\n",
       "  </thead>\n",
       "  <tbody>\n",
       "    <tr>\n",
       "      <th>0</th>\n",
       "      <td>False</td>\n",
       "      <td>False</td>\n",
       "      <td>False</td>\n",
       "      <td>False</td>\n",
       "      <td>False</td>\n",
       "      <td>False</td>\n",
       "      <td>False</td>\n",
       "      <td>False</td>\n",
       "      <td>False</td>\n",
       "    </tr>\n",
       "    <tr>\n",
       "      <th>1</th>\n",
       "      <td>False</td>\n",
       "      <td>False</td>\n",
       "      <td>False</td>\n",
       "      <td>False</td>\n",
       "      <td>False</td>\n",
       "      <td>False</td>\n",
       "      <td>False</td>\n",
       "      <td>False</td>\n",
       "      <td>False</td>\n",
       "    </tr>\n",
       "    <tr>\n",
       "      <th>2</th>\n",
       "      <td>False</td>\n",
       "      <td>False</td>\n",
       "      <td>False</td>\n",
       "      <td>False</td>\n",
       "      <td>False</td>\n",
       "      <td>False</td>\n",
       "      <td>False</td>\n",
       "      <td>False</td>\n",
       "      <td>False</td>\n",
       "    </tr>\n",
       "    <tr>\n",
       "      <th>3</th>\n",
       "      <td>False</td>\n",
       "      <td>False</td>\n",
       "      <td>False</td>\n",
       "      <td>False</td>\n",
       "      <td>False</td>\n",
       "      <td>False</td>\n",
       "      <td>False</td>\n",
       "      <td>False</td>\n",
       "      <td>False</td>\n",
       "    </tr>\n",
       "    <tr>\n",
       "      <th>4</th>\n",
       "      <td>False</td>\n",
       "      <td>False</td>\n",
       "      <td>False</td>\n",
       "      <td>False</td>\n",
       "      <td>False</td>\n",
       "      <td>False</td>\n",
       "      <td>False</td>\n",
       "      <td>False</td>\n",
       "      <td>False</td>\n",
       "    </tr>\n",
       "    <tr>\n",
       "      <th>...</th>\n",
       "      <td>...</td>\n",
       "      <td>...</td>\n",
       "      <td>...</td>\n",
       "      <td>...</td>\n",
       "      <td>...</td>\n",
       "      <td>...</td>\n",
       "      <td>...</td>\n",
       "      <td>...</td>\n",
       "      <td>...</td>\n",
       "    </tr>\n",
       "    <tr>\n",
       "      <th>7579</th>\n",
       "      <td>False</td>\n",
       "      <td>False</td>\n",
       "      <td>False</td>\n",
       "      <td>False</td>\n",
       "      <td>False</td>\n",
       "      <td>False</td>\n",
       "      <td>False</td>\n",
       "      <td>False</td>\n",
       "      <td>False</td>\n",
       "    </tr>\n",
       "    <tr>\n",
       "      <th>7580</th>\n",
       "      <td>False</td>\n",
       "      <td>False</td>\n",
       "      <td>False</td>\n",
       "      <td>False</td>\n",
       "      <td>False</td>\n",
       "      <td>False</td>\n",
       "      <td>False</td>\n",
       "      <td>False</td>\n",
       "      <td>False</td>\n",
       "    </tr>\n",
       "    <tr>\n",
       "      <th>7581</th>\n",
       "      <td>False</td>\n",
       "      <td>False</td>\n",
       "      <td>False</td>\n",
       "      <td>False</td>\n",
       "      <td>False</td>\n",
       "      <td>False</td>\n",
       "      <td>False</td>\n",
       "      <td>False</td>\n",
       "      <td>False</td>\n",
       "    </tr>\n",
       "    <tr>\n",
       "      <th>7582</th>\n",
       "      <td>False</td>\n",
       "      <td>False</td>\n",
       "      <td>False</td>\n",
       "      <td>False</td>\n",
       "      <td>False</td>\n",
       "      <td>False</td>\n",
       "      <td>False</td>\n",
       "      <td>False</td>\n",
       "      <td>False</td>\n",
       "    </tr>\n",
       "    <tr>\n",
       "      <th>7583</th>\n",
       "      <td>False</td>\n",
       "      <td>False</td>\n",
       "      <td>False</td>\n",
       "      <td>False</td>\n",
       "      <td>False</td>\n",
       "      <td>False</td>\n",
       "      <td>False</td>\n",
       "      <td>False</td>\n",
       "      <td>False</td>\n",
       "    </tr>\n",
       "  </tbody>\n",
       "</table>\n",
       "<p>7584 rows × 9 columns</p>\n",
       "</div>"
      ],
      "text/plain": [
       "      crimedate&time  address  districtcode   beat   grid  crimedescr  \\\n",
       "0              False    False         False  False  False       False   \n",
       "1              False    False         False  False  False       False   \n",
       "2              False    False         False  False  False       False   \n",
       "3              False    False         False  False  False       False   \n",
       "4              False    False         False  False  False       False   \n",
       "...              ...      ...           ...    ...    ...         ...   \n",
       "7579           False    False         False  False  False       False   \n",
       "7580           False    False         False  False  False       False   \n",
       "7581           False    False         False  False  False       False   \n",
       "7582           False    False         False  False  False       False   \n",
       "7583           False    False         False  False  False       False   \n",
       "\n",
       "      ucr_ncic_code  latitude  longitude  \n",
       "0             False     False      False  \n",
       "1             False     False      False  \n",
       "2             False     False      False  \n",
       "3             False     False      False  \n",
       "4             False     False      False  \n",
       "...             ...       ...        ...  \n",
       "7579          False     False      False  \n",
       "7580          False     False      False  \n",
       "7581          False     False      False  \n",
       "7582          False     False      False  \n",
       "7583          False     False      False  \n",
       "\n",
       "[7584 rows x 9 columns]"
      ]
     },
     "execution_count": 8,
     "metadata": {},
     "output_type": "execute_result"
    }
   ],
   "source": [
    "#How to work with missing values\n",
    "#When exploring data, you’ll most likely encounter missing or null values\n",
    "#Get rid of rows or columns with nulls\n",
    "#Replace nulls with non-null values, a technique known as imputation\n",
    "\n",
    "#first step is to check which cells in our DataFrame are null:\n",
    "df.isnull()\n",
    "\n",
    "#Notice isnull() returns a DataFrame where each cell is either True or False depending on that cell's null status."
   ]
  },
  {
   "cell_type": "code",
   "execution_count": 9,
   "metadata": {},
   "outputs": [
    {
     "data": {
      "text/plain": [
       "crimedate&time    0\n",
       "address           0\n",
       "districtcode      0\n",
       "beat              0\n",
       "grid              0\n",
       "crimedescr        0\n",
       "ucr_ncic_code     0\n",
       "latitude          0\n",
       "longitude         0\n",
       "dtype: int64"
      ]
     },
     "execution_count": 9,
     "metadata": {},
     "output_type": "execute_result"
    }
   ],
   "source": [
    "#To count the number of nulls in each column we use an aggregate function for summing:\n",
    "df.isnull().sum()"
   ]
  },
  {
   "cell_type": "code",
   "execution_count": 11,
   "metadata": {},
   "outputs": [
    {
     "name": "stdout",
     "output_type": "stream",
     "text": [
      "<class 'pandas.core.frame.DataFrame'>\n",
      "RangeIndex: 2595 entries, 0 to 2594\n",
      "Data columns (total 27 columns):\n",
      " #   Column                   Non-Null Count  Dtype  \n",
      "---  ------                   --------------  -----  \n",
      " 0   Rank                     2595 non-null   int64  \n",
      " 1   NCT Number               2595 non-null   object \n",
      " 2   Title                    2595 non-null   object \n",
      " 3   Acronym                  1217 non-null   object \n",
      " 4   Status                   2595 non-null   object \n",
      " 5   Study Results            2595 non-null   object \n",
      " 6   Conditions               2595 non-null   object \n",
      " 7   Interventions            2181 non-null   object \n",
      " 8   Outcome Measures         2573 non-null   object \n",
      " 9   Sponsor/Collaborators    2595 non-null   object \n",
      " 10  Gender                   2590 non-null   object \n",
      " 11  Age                      2595 non-null   object \n",
      " 12  Phases                   1468 non-null   object \n",
      " 13  Enrollment               2573 non-null   float64\n",
      " 14  Funded Bys               2595 non-null   object \n",
      " 15  Study Type               2595 non-null   object \n",
      " 16  Study Designs            2572 non-null   object \n",
      " 17  Other IDs                2594 non-null   object \n",
      " 18  Start Date               2573 non-null   object \n",
      " 19  Primary Completion Date  2572 non-null   object \n",
      " 20  Completion Date          2572 non-null   object \n",
      " 21  First Posted             2595 non-null   object \n",
      " 22  Results First Posted     1 non-null      object \n",
      " 23  Last Update Posted       2595 non-null   object \n",
      " 24  Locations                2177 non-null   object \n",
      " 25  Study Documents          48 non-null     object \n",
      " 26  URL                      2595 non-null   object \n",
      "dtypes: float64(1), int64(1), object(25)\n",
      "memory usage: 547.5+ KB\n"
     ]
    }
   ],
   "source": [
    "df2=pd.read_csv('/Users/admin/Downloads/COVIDclinicaltrials.csv')\n",
    "df2.info()"
   ]
  },
  {
   "cell_type": "code",
   "execution_count": 58,
   "metadata": {},
   "outputs": [
    {
     "data": {
      "text/plain": [
       "Rank                          0\n",
       "NCT Number                    0\n",
       "Title                         0\n",
       "Acronym                    1378\n",
       "Status                        0\n",
       "Study Results                 0\n",
       "Conditions                    0\n",
       "Interventions               414\n",
       "Outcome Measures             22\n",
       "Sponsor/Collaborators         0\n",
       "Gender                        5\n",
       "Age                           0\n",
       "Phases                     1127\n",
       "Enrollment                   22\n",
       "Funded Bys                    0\n",
       "Study Type                    0\n",
       "Study Designs                23\n",
       "Other IDs                     1\n",
       "Start Date                   22\n",
       "Primary Completion Date      23\n",
       "Completion Date              23\n",
       "First Posted                  0\n",
       "Results First Posted       2594\n",
       "Last Update Posted            0\n",
       "Locations                   418\n",
       "Study Documents            2547\n",
       "URL                           0\n",
       "dtype: int64"
      ]
     },
     "execution_count": 58,
     "metadata": {},
     "output_type": "execute_result"
    }
   ],
   "source": [
    "df2.isnull().sum()"
   ]
  },
  {
   "cell_type": "code",
   "execution_count": 13,
   "metadata": {},
   "outputs": [],
   "source": [
    "#df2.dropna()\n",
    "#This operation will delete any row with at least a single null value, \n",
    "#but it will return a new DataFrame without altering \n",
    "#the original one. You could specify inplace=True in this method as well.\n",
    "\n",
    "# drop columns with null values by setting axis=1\n",
    "df3=df2.dropna(axis=1)\n",
    "#removing null data is only suggested if you have a small amount of missing data."
   ]
  },
  {
   "cell_type": "code",
   "execution_count": 60,
   "metadata": {
    "scrolled": true
   },
   "outputs": [
    {
     "name": "stdout",
     "output_type": "stream",
     "text": [
      "<class 'pandas.core.frame.DataFrame'>\n",
      "RangeIndex: 2595 entries, 0 to 2594\n",
      "Data columns (total 13 columns):\n",
      " #   Column                 Non-Null Count  Dtype \n",
      "---  ------                 --------------  ----- \n",
      " 0   Rank                   2595 non-null   int64 \n",
      " 1   NCT Number             2595 non-null   object\n",
      " 2   Title                  2595 non-null   object\n",
      " 3   Status                 2595 non-null   object\n",
      " 4   Study Results          2595 non-null   object\n",
      " 5   Conditions             2595 non-null   object\n",
      " 6   Sponsor/Collaborators  2595 non-null   object\n",
      " 7   Age                    2595 non-null   object\n",
      " 8   Funded Bys             2595 non-null   object\n",
      " 9   Study Type             2595 non-null   object\n",
      " 10  First Posted           2595 non-null   object\n",
      " 11  Last Update Posted     2595 non-null   object\n",
      " 12  URL                    2595 non-null   object\n",
      "dtypes: int64(1), object(12)\n",
      "memory usage: 263.7+ KB\n"
     ]
    }
   ],
   "source": [
    "df3.info()"
   ]
  },
  {
   "cell_type": "code",
   "execution_count": 61,
   "metadata": {},
   "outputs": [
    {
     "data": {
      "text/plain": [
       "Rank                     0\n",
       "NCT Number               0\n",
       "Title                    0\n",
       "Status                   0\n",
       "Study Results            0\n",
       "Conditions               0\n",
       "Sponsor/Collaborators    0\n",
       "Age                      0\n",
       "Funded Bys               0\n",
       "Study Type               0\n",
       "First Posted             0\n",
       "Last Update Posted       0\n",
       "URL                      0\n",
       "dtype: int64"
      ]
     },
     "execution_count": 61,
     "metadata": {},
     "output_type": "execute_result"
    }
   ],
   "source": [
    "df3.isnull().sum()"
   ]
  },
  {
   "cell_type": "code",
   "execution_count": 15,
   "metadata": {},
   "outputs": [],
   "source": [
    "#Imputation\n",
    "#Imputation is a conventional feature engineering technique used to keep valuable data that have null values.\n",
    "#There may be instances where dropping every row with a null value removes too big a chunk from your dataset,\n",
    "#so instead we can impute that null with another value, usually the mean or the median of that column.\n",
    "\n",
    "import numpy as np"
   ]
  },
  {
   "cell_type": "code",
   "execution_count": 18,
   "metadata": {},
   "outputs": [
    {
     "data": {
      "text/html": [
       "<div>\n",
       "<style scoped>\n",
       "    .dataframe tbody tr th:only-of-type {\n",
       "        vertical-align: middle;\n",
       "    }\n",
       "\n",
       "    .dataframe tbody tr th {\n",
       "        vertical-align: top;\n",
       "    }\n",
       "\n",
       "    .dataframe thead th {\n",
       "        text-align: right;\n",
       "    }\n",
       "</style>\n",
       "<table border=\"1\" class=\"dataframe\">\n",
       "  <thead>\n",
       "    <tr style=\"text-align: right;\">\n",
       "      <th></th>\n",
       "      <th>X1</th>\n",
       "      <th>X2</th>\n",
       "    </tr>\n",
       "  </thead>\n",
       "  <tbody>\n",
       "    <tr>\n",
       "      <th>0</th>\n",
       "      <td>NaN</td>\n",
       "      <td>0.875058</td>\n",
       "    </tr>\n",
       "    <tr>\n",
       "      <th>1</th>\n",
       "      <td>0.763618</td>\n",
       "      <td>0.772110</td>\n",
       "    </tr>\n",
       "    <tr>\n",
       "      <th>2</th>\n",
       "      <td>0.617353</td>\n",
       "      <td>0.643694</td>\n",
       "    </tr>\n",
       "    <tr>\n",
       "      <th>3</th>\n",
       "      <td>0.738487</td>\n",
       "      <td>0.542382</td>\n",
       "    </tr>\n",
       "    <tr>\n",
       "      <th>4</th>\n",
       "      <td>NaN</td>\n",
       "      <td>0.071095</td>\n",
       "    </tr>\n",
       "    <tr>\n",
       "      <th>5</th>\n",
       "      <td>0.716237</td>\n",
       "      <td>0.685460</td>\n",
       "    </tr>\n",
       "    <tr>\n",
       "      <th>6</th>\n",
       "      <td>0.730759</td>\n",
       "      <td>NaN</td>\n",
       "    </tr>\n",
       "    <tr>\n",
       "      <th>7</th>\n",
       "      <td>NaN</td>\n",
       "      <td>0.209360</td>\n",
       "    </tr>\n",
       "    <tr>\n",
       "      <th>8</th>\n",
       "      <td>0.710738</td>\n",
       "      <td>0.547641</td>\n",
       "    </tr>\n",
       "    <tr>\n",
       "      <th>9</th>\n",
       "      <td>0.546935</td>\n",
       "      <td>NaN</td>\n",
       "    </tr>\n",
       "  </tbody>\n",
       "</table>\n",
       "</div>"
      ],
      "text/plain": [
       "         X1        X2\n",
       "0       NaN  0.875058\n",
       "1  0.763618  0.772110\n",
       "2  0.617353  0.643694\n",
       "3  0.738487  0.542382\n",
       "4       NaN  0.071095\n",
       "5  0.716237  0.685460\n",
       "6  0.730759       NaN\n",
       "7       NaN  0.209360\n",
       "8  0.710738  0.547641\n",
       "9  0.546935       NaN"
      ]
     },
     "execution_count": 18,
     "metadata": {},
     "output_type": "execute_result"
    }
   ],
   "source": [
    "#Imputation for Numeric Features\n",
    "\n",
    "# create two columns of randomly generated values, replace a few examples with NaNs\n",
    "data = {\"X1\": [np.nan, 0.7636183 , 0.61735332, 0.73848657, np.nan,\n",
    "        0.71623709, 0.73075927, np.nan, 0.71073827, 0.54693503],\n",
    "        \"X2\": [0.87505771, 0.77210971, 0.64369448, 0.54238232, 0.0710951 ,\n",
    "        0.6854597 , np.nan, 0.20935994, 0.54764129, np.nan ]}\n",
    "df1 = pd.DataFrame(data)\n",
    "df1"
   ]
  },
  {
   "cell_type": "code",
   "execution_count": 22,
   "metadata": {},
   "outputs": [
    {
     "data": {
      "text/html": [
       "<div>\n",
       "<style scoped>\n",
       "    .dataframe tbody tr th:only-of-type {\n",
       "        vertical-align: middle;\n",
       "    }\n",
       "\n",
       "    .dataframe tbody tr th {\n",
       "        vertical-align: top;\n",
       "    }\n",
       "\n",
       "    .dataframe thead th {\n",
       "        text-align: right;\n",
       "    }\n",
       "</style>\n",
       "<table border=\"1\" class=\"dataframe\">\n",
       "  <thead>\n",
       "    <tr style=\"text-align: right;\">\n",
       "      <th></th>\n",
       "      <th>X1</th>\n",
       "      <th>X2</th>\n",
       "    </tr>\n",
       "  </thead>\n",
       "  <tbody>\n",
       "    <tr>\n",
       "      <th>0</th>\n",
       "      <td>0.689161</td>\n",
       "      <td>0.875058</td>\n",
       "    </tr>\n",
       "    <tr>\n",
       "      <th>1</th>\n",
       "      <td>0.763618</td>\n",
       "      <td>0.772110</td>\n",
       "    </tr>\n",
       "    <tr>\n",
       "      <th>2</th>\n",
       "      <td>0.617353</td>\n",
       "      <td>0.643694</td>\n",
       "    </tr>\n",
       "    <tr>\n",
       "      <th>3</th>\n",
       "      <td>0.738487</td>\n",
       "      <td>0.542382</td>\n",
       "    </tr>\n",
       "    <tr>\n",
       "      <th>4</th>\n",
       "      <td>0.689161</td>\n",
       "      <td>0.071095</td>\n",
       "    </tr>\n",
       "    <tr>\n",
       "      <th>5</th>\n",
       "      <td>0.716237</td>\n",
       "      <td>0.685460</td>\n",
       "    </tr>\n",
       "    <tr>\n",
       "      <th>6</th>\n",
       "      <td>0.730759</td>\n",
       "      <td>0.543350</td>\n",
       "    </tr>\n",
       "    <tr>\n",
       "      <th>7</th>\n",
       "      <td>0.689161</td>\n",
       "      <td>0.209360</td>\n",
       "    </tr>\n",
       "    <tr>\n",
       "      <th>8</th>\n",
       "      <td>0.710738</td>\n",
       "      <td>0.547641</td>\n",
       "    </tr>\n",
       "    <tr>\n",
       "      <th>9</th>\n",
       "      <td>0.546935</td>\n",
       "      <td>0.543350</td>\n",
       "    </tr>\n",
       "  </tbody>\n",
       "</table>\n",
       "</div>"
      ],
      "text/plain": [
       "         X1        X2\n",
       "0  0.689161  0.875058\n",
       "1  0.763618  0.772110\n",
       "2  0.617353  0.643694\n",
       "3  0.738487  0.542382\n",
       "4  0.689161  0.071095\n",
       "5  0.716237  0.685460\n",
       "6  0.730759  0.543350\n",
       "7  0.689161  0.209360\n",
       "8  0.710738  0.547641\n",
       "9  0.546935  0.543350"
      ]
     },
     "execution_count": 22,
     "metadata": {},
     "output_type": "execute_result"
    }
   ],
   "source": [
    "#Imputation Method 1: Mean or Median\n",
    "\n",
    "# replace missing values with the column mean\n",
    "df_mean_imputed = df1.fillna(df1.mean())\n",
    "#df_median_imputed = df.fillna(df.median())\n",
    "df_mean_imputed"
   ]
  },
  {
   "cell_type": "code",
   "execution_count": 23,
   "metadata": {},
   "outputs": [],
   "source": [
    "#Imputation Method 2: Zero\n",
    "\n",
    "# replace missing values with the column mean\n",
    "df_zero_imputed = df1.fillna(0)\n",
    "#df_zero_imputed"
   ]
  },
  {
   "cell_type": "code",
   "execution_count": 24,
   "metadata": {},
   "outputs": [],
   "source": [
    "#Imputation for Categorical Data\n",
    "\n",
    "data = {\"X1\": [np.nan, \"Red\" , \"Blue\", \"Red\", np.nan,\n",
    "        \"Red\", \"Green\", np.nan, \"Blue\", \"Red\"],\n",
    "        \"X2\": [\"Green\", \"Green\", \"Red\", \"Blue\", \"Green\" ,\n",
    "        \"Blue\" , np.nan, \"Red\", \"Green\", np.nan ]}\n",
    "colors = pd.DataFrame(data)"
   ]
  },
  {
   "cell_type": "code",
   "execution_count": 25,
   "metadata": {},
   "outputs": [
    {
     "data": {
      "text/html": [
       "<div>\n",
       "<style scoped>\n",
       "    .dataframe tbody tr th:only-of-type {\n",
       "        vertical-align: middle;\n",
       "    }\n",
       "\n",
       "    .dataframe tbody tr th {\n",
       "        vertical-align: top;\n",
       "    }\n",
       "\n",
       "    .dataframe thead th {\n",
       "        text-align: right;\n",
       "    }\n",
       "</style>\n",
       "<table border=\"1\" class=\"dataframe\">\n",
       "  <thead>\n",
       "    <tr style=\"text-align: right;\">\n",
       "      <th></th>\n",
       "      <th>X1</th>\n",
       "      <th>X2</th>\n",
       "    </tr>\n",
       "  </thead>\n",
       "  <tbody>\n",
       "    <tr>\n",
       "      <th>0</th>\n",
       "      <td>Red</td>\n",
       "      <td>Green</td>\n",
       "    </tr>\n",
       "    <tr>\n",
       "      <th>1</th>\n",
       "      <td>Red</td>\n",
       "      <td>Green</td>\n",
       "    </tr>\n",
       "    <tr>\n",
       "      <th>2</th>\n",
       "      <td>Blue</td>\n",
       "      <td>Red</td>\n",
       "    </tr>\n",
       "    <tr>\n",
       "      <th>3</th>\n",
       "      <td>Red</td>\n",
       "      <td>Blue</td>\n",
       "    </tr>\n",
       "    <tr>\n",
       "      <th>4</th>\n",
       "      <td>Red</td>\n",
       "      <td>Green</td>\n",
       "    </tr>\n",
       "    <tr>\n",
       "      <th>5</th>\n",
       "      <td>Red</td>\n",
       "      <td>Blue</td>\n",
       "    </tr>\n",
       "    <tr>\n",
       "      <th>6</th>\n",
       "      <td>Green</td>\n",
       "      <td>Green</td>\n",
       "    </tr>\n",
       "    <tr>\n",
       "      <th>7</th>\n",
       "      <td>Red</td>\n",
       "      <td>Red</td>\n",
       "    </tr>\n",
       "    <tr>\n",
       "      <th>8</th>\n",
       "      <td>Blue</td>\n",
       "      <td>Green</td>\n",
       "    </tr>\n",
       "    <tr>\n",
       "      <th>9</th>\n",
       "      <td>Red</td>\n",
       "      <td>Green</td>\n",
       "    </tr>\n",
       "  </tbody>\n",
       "</table>\n",
       "</div>"
      ],
      "text/plain": [
       "      X1     X2\n",
       "0    Red  Green\n",
       "1    Red  Green\n",
       "2   Blue    Red\n",
       "3    Red   Blue\n",
       "4    Red  Green\n",
       "5    Red   Blue\n",
       "6  Green  Green\n",
       "7    Red    Red\n",
       "8   Blue  Green\n",
       "9    Red  Green"
      ]
     },
     "execution_count": 25,
     "metadata": {},
     "output_type": "execute_result"
    }
   ],
   "source": [
    "#Imputation Method 1: Most Common Class\n",
    "\n",
    "# for each column, get value counts in decreasing order and take the index (value) of most common class\n",
    "df_most_common_imputed = colors.apply(lambda x: x.fillna(x.value_counts().index[0]))\n",
    "df_most_common_imputed\n"
   ]
  },
  {
   "cell_type": "code",
   "execution_count": 27,
   "metadata": {},
   "outputs": [
    {
     "data": {
      "text/html": [
       "<div>\n",
       "<style scoped>\n",
       "    .dataframe tbody tr th:only-of-type {\n",
       "        vertical-align: middle;\n",
       "    }\n",
       "\n",
       "    .dataframe tbody tr th {\n",
       "        vertical-align: top;\n",
       "    }\n",
       "\n",
       "    .dataframe thead th {\n",
       "        text-align: right;\n",
       "    }\n",
       "</style>\n",
       "<table border=\"1\" class=\"dataframe\">\n",
       "  <thead>\n",
       "    <tr style=\"text-align: right;\">\n",
       "      <th></th>\n",
       "      <th>X1</th>\n",
       "      <th>X2</th>\n",
       "    </tr>\n",
       "  </thead>\n",
       "  <tbody>\n",
       "    <tr>\n",
       "      <th>0</th>\n",
       "      <td>Unknown</td>\n",
       "      <td>Green</td>\n",
       "    </tr>\n",
       "    <tr>\n",
       "      <th>1</th>\n",
       "      <td>Red</td>\n",
       "      <td>Green</td>\n",
       "    </tr>\n",
       "    <tr>\n",
       "      <th>2</th>\n",
       "      <td>Blue</td>\n",
       "      <td>Red</td>\n",
       "    </tr>\n",
       "    <tr>\n",
       "      <th>3</th>\n",
       "      <td>Red</td>\n",
       "      <td>Blue</td>\n",
       "    </tr>\n",
       "    <tr>\n",
       "      <th>4</th>\n",
       "      <td>Unknown</td>\n",
       "      <td>Green</td>\n",
       "    </tr>\n",
       "    <tr>\n",
       "      <th>5</th>\n",
       "      <td>Red</td>\n",
       "      <td>Blue</td>\n",
       "    </tr>\n",
       "    <tr>\n",
       "      <th>6</th>\n",
       "      <td>Green</td>\n",
       "      <td>Unknown</td>\n",
       "    </tr>\n",
       "    <tr>\n",
       "      <th>7</th>\n",
       "      <td>Unknown</td>\n",
       "      <td>Red</td>\n",
       "    </tr>\n",
       "    <tr>\n",
       "      <th>8</th>\n",
       "      <td>Blue</td>\n",
       "      <td>Green</td>\n",
       "    </tr>\n",
       "    <tr>\n",
       "      <th>9</th>\n",
       "      <td>Red</td>\n",
       "      <td>Unknown</td>\n",
       "    </tr>\n",
       "  </tbody>\n",
       "</table>\n",
       "</div>"
      ],
      "text/plain": [
       "        X1       X2\n",
       "0  Unknown    Green\n",
       "1      Red    Green\n",
       "2     Blue      Red\n",
       "3      Red     Blue\n",
       "4  Unknown    Green\n",
       "5      Red     Blue\n",
       "6    Green  Unknown\n",
       "7  Unknown      Red\n",
       "8     Blue    Green\n",
       "9      Red  Unknown"
      ]
     },
     "execution_count": 27,
     "metadata": {},
     "output_type": "execute_result"
    }
   ],
   "source": [
    "#Imputation Method 2: “Unknown” Class\n",
    "\n",
    "#Similar to how it’s sometimes most appropriate \n",
    "#to impute a missing numeric feature with zeros, \n",
    "#sometimes a categorical feature’s missing-ness itself\n",
    "#is valuable information that should be explicitly encoded.\n",
    "\n",
    "\n",
    "df_unknown_imputed = colors.fillna(\"Unknown\")\n",
    "df_unknown_imputed\n"
   ]
  },
  {
   "cell_type": "code",
   "execution_count": null,
   "metadata": {},
   "outputs": [],
   "source": []
  }
 ],
 "metadata": {
  "kernelspec": {
   "display_name": "Python 3 (ipykernel)",
   "language": "python",
   "name": "python3"
  },
  "language_info": {
   "codemirror_mode": {
    "name": "ipython",
    "version": 3
   },
   "file_extension": ".py",
   "mimetype": "text/x-python",
   "name": "python",
   "nbconvert_exporter": "python",
   "pygments_lexer": "ipython3",
   "version": "3.9.7"
  }
 },
 "nbformat": 4,
 "nbformat_minor": 4
}
